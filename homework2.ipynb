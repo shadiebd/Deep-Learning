{
 "cells": [
  {
   "cell_type": "markdown",
   "metadata": {},
   "source": [
    "# Assignment 2: Build a CNN for image recognition.\n",
    "\n",
    "## Due Date:  March 26, 11:59PM\n",
    "\n",
    "### Name: Shadi Ebadi\n"
   ]
  },
  {
   "cell_type": "markdown",
   "metadata": {},
   "source": [
    "## Introduction:\n",
    "\n",
    "1. In this assignment, you will build Convolutional Neural Network to classify CIFAR-10 Images.\n",
    "2. You can directly load dataset from many deep learning packages.\n",
    "3. You can use any deep learning packages such as pytorch, keras or tensorflow for this assignment."
   ]
  },
  {
   "cell_type": "markdown",
   "metadata": {},
   "source": [
    "## Requirements:\n",
    "\n",
    "1. You need to load cifar 10 data and split the entire training dataset into training and validation.\n",
    "2. You will implement a CNN model to classify cifar 10 images with provided structure.\n",
    "3. You need to plot the training and validation accuracy or loss obtained from above step.\n",
    "4. Then you can use tuned parameters to train using the entire training dataset.\n",
    "5. You should report the testing accuracy using the model with complete data.\n",
    "6. You may try to change the structure (e.g, add BN layer or dropout layer,...) and analyze your findings.\n",
    "\n",
    "## Google Colab\n",
    "\n",
    "- If you do not have GPU, the training of a CNN can be slow. Google Colab is a good option."
   ]
  },
  {
   "cell_type": "markdown",
   "metadata": {},
   "source": [
    "## Batch Normalization (BN)"
   ]
  },
  {
   "cell_type": "markdown",
   "metadata": {},
   "source": [
    "### Background:"
   ]
  },
  {
   "cell_type": "markdown",
   "metadata": {},
   "source": [
    "- Batch Normalization is a technique to speed up training and help make the model more stable.\n",
    "- In simple words, batch normalization is just another network layer that gets inserted between a hidden layer and the next hidden layer. Its job is to take the outputs from the first hidden layer and normalize them before passing them on as the input of the next hidden layer.\n",
    "\n",
    "- For more detailed information, you may refer to the original paper: https://arxiv.org/pdf/1502.03167.pdf."
   ]
  },
  {
   "cell_type": "markdown",
   "metadata": {},
   "source": [
    "### BN Algorithm:"
   ]
  },
  {
   "cell_type": "markdown",
   "metadata": {},
   "source": [
    "- Input: Values of $x$ over a mini-batch: $\\mathbf{B}$ = $\\{x_1,..., x_m\\};$\n",
    "- Output: $\\{y_i = BN_{\\gamma,\\beta}(x_i)\\}$, $\\gamma, \\beta$ are learnable parameters\n",
    "\n",
    "Normalization of the Input:\n",
    "$$\\mu_{\\mathbf{B}} = \\frac{1}{m}\\sum_{i=1}^m x_i$$\n",
    "$$\\sigma_{\\mathbf{B}}^2 = \\frac{1}{m}\\sum_{i=1}^m (x_i - \\mu_{\\mathbf{B}})^2$$\n",
    "$$\\hat{x_i} = \\frac{x_i - \\mu_{\\mathbf{B}}}{\\sqrt{\\sigma_{\\mathbf{B}}}^2 + \\epsilon}$$\n",
    "Re-scaling and Offsetting:\n",
    "$$y_i = \\gamma \\hat{x_i} + \\beta = BN_{\\gamma,\\beta}(x_i)$$\n"
   ]
  },
  {
   "cell_type": "markdown",
   "metadata": {},
   "source": [
    "### Advantages of BN:\n",
    "1. Improves gradient flow through the network.\n",
    "2. Allows use of saturating nonlinearities and higher learning rates.\n",
    "3. Makes weights easier to initialize.\n",
    "4. Act as a form of regularization and may reduce the need for dropout."
   ]
  },
  {
   "cell_type": "markdown",
   "metadata": {},
   "source": [
    "### Implementation:"
   ]
  },
  {
   "cell_type": "markdown",
   "metadata": {},
   "source": [
    "- The batch normalization layer has already been implemented in many packages. You may simply call the function to build the layer. For example: torch.nn.BatchNorm2d() using pytroch package, keras.layers.BatchNormalization() using keras package.\n",
    "- The location of BN layer: Please make sure ```BatchNormalization``` is between a ```Conv```/```Dense``` layer and an ```activation``` layer."
   ]
  },
  {
   "cell_type": "markdown",
   "metadata": {},
   "source": [
    "## 1. Data preparation"
   ]
  },
  {
   "cell_type": "code",
   "execution_count": 8,
   "metadata": {},
   "outputs": [
    {
     "name": "stdout",
     "output_type": "stream",
     "text": [
      "Requirement already satisfied: tensorflow==2.12 in c:\\users\\sheba\\anaconda3\\lib\\site-packages (2.12.0)\n",
      "Requirement already satisfied: keras==2.12 in c:\\users\\sheba\\anaconda3\\lib\\site-packages (2.12.0)\n",
      "Requirement already satisfied: tensorflow-intel==2.12.0 in c:\\users\\sheba\\anaconda3\\lib\\site-packages (from tensorflow==2.12) (2.12.0)\n",
      "Requirement already satisfied: absl-py>=1.0.0 in c:\\users\\sheba\\anaconda3\\lib\\site-packages (from tensorflow-intel==2.12.0->tensorflow==2.12) (2.0.0)\n",
      "Requirement already satisfied: astunparse>=1.6.0 in c:\\users\\sheba\\anaconda3\\lib\\site-packages (from tensorflow-intel==2.12.0->tensorflow==2.12) (1.6.3)\n",
      "Requirement already satisfied: flatbuffers>=2.0 in c:\\users\\sheba\\anaconda3\\lib\\site-packages (from tensorflow-intel==2.12.0->tensorflow==2.12) (24.3.25)\n",
      "Requirement already satisfied: gast<=0.4.0,>=0.2.1 in c:\\users\\sheba\\anaconda3\\lib\\site-packages (from tensorflow-intel==2.12.0->tensorflow==2.12) (0.4.0)\n",
      "Requirement already satisfied: google-pasta>=0.1.1 in c:\\users\\sheba\\anaconda3\\lib\\site-packages (from tensorflow-intel==2.12.0->tensorflow==2.12) (0.2.0)\n",
      "Requirement already satisfied: h5py>=2.9.0 in c:\\users\\sheba\\anaconda3\\lib\\site-packages (from tensorflow-intel==2.12.0->tensorflow==2.12) (3.13.0)\n",
      "Requirement already satisfied: jax>=0.3.15 in c:\\users\\sheba\\anaconda3\\lib\\site-packages (from tensorflow-intel==2.12.0->tensorflow==2.12) (0.4.30)\n",
      "Requirement already satisfied: libclang>=13.0.0 in c:\\users\\sheba\\anaconda3\\lib\\site-packages (from tensorflow-intel==2.12.0->tensorflow==2.12) (16.0.6)\n",
      "Requirement already satisfied: numpy<1.24,>=1.22 in c:\\users\\sheba\\anaconda3\\lib\\site-packages (from tensorflow-intel==2.12.0->tensorflow==2.12) (1.23.5)\n",
      "Requirement already satisfied: opt-einsum>=2.3.2 in c:\\users\\sheba\\anaconda3\\lib\\site-packages (from tensorflow-intel==2.12.0->tensorflow==2.12) (3.3.0)\n",
      "Requirement already satisfied: packaging in c:\\users\\sheba\\anaconda3\\lib\\site-packages (from tensorflow-intel==2.12.0->tensorflow==2.12) (23.2)\n",
      "Requirement already satisfied: protobuf!=4.21.0,!=4.21.1,!=4.21.2,!=4.21.3,!=4.21.4,!=4.21.5,<5.0.0dev,>=3.20.3 in c:\\users\\sheba\\anaconda3\\lib\\site-packages (from tensorflow-intel==2.12.0->tensorflow==2.12) (4.25.0)\n",
      "Requirement already satisfied: setuptools in c:\\users\\sheba\\anaconda3\\lib\\site-packages (from tensorflow-intel==2.12.0->tensorflow==2.12) (58.0.4)\n",
      "Requirement already satisfied: six>=1.12.0 in c:\\users\\sheba\\anaconda3\\lib\\site-packages (from tensorflow-intel==2.12.0->tensorflow==2.12) (1.16.0)\n",
      "Requirement already satisfied: termcolor>=1.1.0 in c:\\users\\sheba\\anaconda3\\lib\\site-packages (from tensorflow-intel==2.12.0->tensorflow==2.12) (2.3.0)\n",
      "Requirement already satisfied: typing-extensions>=3.6.6 in c:\\users\\sheba\\anaconda3\\lib\\site-packages (from tensorflow-intel==2.12.0->tensorflow==2.12) (4.11.0)\n",
      "Requirement already satisfied: wrapt<1.15,>=1.11.0 in c:\\users\\sheba\\appdata\\roaming\\python\\python39\\site-packages (from tensorflow-intel==2.12.0->tensorflow==2.12) (1.12.1)\n",
      "Requirement already satisfied: grpcio<2.0,>=1.24.3 in c:\\users\\sheba\\anaconda3\\lib\\site-packages (from tensorflow-intel==2.12.0->tensorflow==2.12) (1.59.2)\n",
      "Requirement already satisfied: tensorboard<2.13,>=2.12 in c:\\users\\sheba\\anaconda3\\lib\\site-packages (from tensorflow-intel==2.12.0->tensorflow==2.12) (2.12.3)\n",
      "Requirement already satisfied: tensorflow-estimator<2.13,>=2.12.0 in c:\\users\\sheba\\anaconda3\\lib\\site-packages (from tensorflow-intel==2.12.0->tensorflow==2.12) (2.12.0)\n",
      "Requirement already satisfied: tensorflow-io-gcs-filesystem>=0.23.1 in c:\\users\\sheba\\anaconda3\\lib\\site-packages (from tensorflow-intel==2.12.0->tensorflow==2.12) (0.31.0)\n",
      "Requirement already satisfied: wheel<1.0,>=0.23.0 in c:\\users\\sheba\\anaconda3\\lib\\site-packages (from astunparse>=1.6.0->tensorflow-intel==2.12.0->tensorflow==2.12) (0.37.0)\n",
      "Requirement already satisfied: jaxlib<=0.4.30,>=0.4.27 in c:\\users\\sheba\\anaconda3\\lib\\site-packages (from jax>=0.3.15->tensorflow-intel==2.12.0->tensorflow==2.12) (0.4.30)\n",
      "Requirement already satisfied: ml-dtypes>=0.2.0 in c:\\users\\sheba\\anaconda3\\lib\\site-packages (from jax>=0.3.15->tensorflow-intel==2.12.0->tensorflow==2.12) (0.5.1)\n",
      "Requirement already satisfied: scipy>=1.9 in c:\\users\\sheba\\anaconda3\\lib\\site-packages (from jax>=0.3.15->tensorflow-intel==2.12.0->tensorflow==2.12) (1.13.1)\n",
      "Requirement already satisfied: importlib-metadata>=4.6 in c:\\users\\sheba\\anaconda3\\lib\\site-packages (from jax>=0.3.15->tensorflow-intel==2.12.0->tensorflow==2.12) (4.8.1)\n",
      "Requirement already satisfied: google-auth<3,>=1.6.3 in c:\\users\\sheba\\anaconda3\\lib\\site-packages (from tensorboard<2.13,>=2.12->tensorflow-intel==2.12.0->tensorflow==2.12) (2.23.4)\n",
      "Requirement already satisfied: google-auth-oauthlib<1.1,>=0.5 in c:\\users\\sheba\\anaconda3\\lib\\site-packages (from tensorboard<2.13,>=2.12->tensorflow-intel==2.12.0->tensorflow==2.12) (1.0.0)\n",
      "Requirement already satisfied: markdown>=2.6.8 in c:\\users\\sheba\\anaconda3\\lib\\site-packages (from tensorboard<2.13,>=2.12->tensorflow-intel==2.12.0->tensorflow==2.12) (3.5.1)\n",
      "Requirement already satisfied: requests<3,>=2.21.0 in c:\\users\\sheba\\anaconda3\\lib\\site-packages (from tensorboard<2.13,>=2.12->tensorflow-intel==2.12.0->tensorflow==2.12) (2.26.0)\n",
      "Requirement already satisfied: tensorboard-data-server<0.8.0,>=0.7.0 in c:\\users\\sheba\\anaconda3\\lib\\site-packages (from tensorboard<2.13,>=2.12->tensorflow-intel==2.12.0->tensorflow==2.12) (0.7.2)\n",
      "Requirement already satisfied: werkzeug>=1.0.1 in c:\\users\\sheba\\anaconda3\\lib\\site-packages (from tensorboard<2.13,>=2.12->tensorflow-intel==2.12.0->tensorflow==2.12) (2.0.2)\n",
      "Requirement already satisfied: cachetools<6.0,>=2.0.0 in c:\\users\\sheba\\anaconda3\\lib\\site-packages (from google-auth<3,>=1.6.3->tensorboard<2.13,>=2.12->tensorflow-intel==2.12.0->tensorflow==2.12) (5.3.2)\n",
      "Requirement already satisfied: pyasn1-modules>=0.2.1 in c:\\users\\sheba\\anaconda3\\lib\\site-packages (from google-auth<3,>=1.6.3->tensorboard<2.13,>=2.12->tensorflow-intel==2.12.0->tensorflow==2.12) (0.3.0)\n",
      "Requirement already satisfied: rsa<5,>=3.1.4 in c:\\users\\sheba\\anaconda3\\lib\\site-packages (from google-auth<3,>=1.6.3->tensorboard<2.13,>=2.12->tensorflow-intel==2.12.0->tensorflow==2.12) (4.9)\n",
      "Requirement already satisfied: requests-oauthlib>=0.7.0 in c:\\users\\sheba\\anaconda3\\lib\\site-packages (from google-auth-oauthlib<1.1,>=0.5->tensorboard<2.13,>=2.12->tensorflow-intel==2.12.0->tensorflow==2.12) (1.3.1)\n",
      "Requirement already satisfied: zipp>=0.5 in c:\\users\\sheba\\anaconda3\\lib\\site-packages (from importlib-metadata>=4.6->jax>=0.3.15->tensorflow-intel==2.12.0->tensorflow==2.12) (3.6.0)\n",
      "Requirement already satisfied: urllib3<1.27,>=1.21.1 in c:\\users\\sheba\\anaconda3\\lib\\site-packages (from requests<3,>=2.21.0->tensorboard<2.13,>=2.12->tensorflow-intel==2.12.0->tensorflow==2.12) (1.26.7)\n",
      "Requirement already satisfied: certifi>=2017.4.17 in c:\\users\\sheba\\anaconda3\\lib\\site-packages (from requests<3,>=2.21.0->tensorboard<2.13,>=2.12->tensorflow-intel==2.12.0->tensorflow==2.12) (2024.8.30)\n",
      "Requirement already satisfied: charset-normalizer~=2.0.0 in c:\\users\\sheba\\anaconda3\\lib\\site-packages (from requests<3,>=2.21.0->tensorboard<2.13,>=2.12->tensorflow-intel==2.12.0->tensorflow==2.12) (2.0.4)\n",
      "Requirement already satisfied: idna<4,>=2.5 in c:\\users\\sheba\\anaconda3\\lib\\site-packages (from requests<3,>=2.21.0->tensorboard<2.13,>=2.12->tensorflow-intel==2.12.0->tensorflow==2.12) (3.2)\n",
      "Requirement already satisfied: pyasn1<0.6.0,>=0.4.6 in c:\\users\\sheba\\anaconda3\\lib\\site-packages (from pyasn1-modules>=0.2.1->google-auth<3,>=1.6.3->tensorboard<2.13,>=2.12->tensorflow-intel==2.12.0->tensorflow==2.12) (0.5.0)\n",
      "Requirement already satisfied: oauthlib>=3.0.0 in c:\\users\\sheba\\anaconda3\\lib\\site-packages (from requests-oauthlib>=0.7.0->google-auth-oauthlib<1.1,>=0.5->tensorboard<2.13,>=2.12->tensorflow-intel==2.12.0->tensorflow==2.12) (3.2.2)\n",
      "Note: you may need to restart the kernel to use updated packages.\n"
     ]
    },
    {
     "name": "stderr",
     "output_type": "stream",
     "text": [
      "WARNING: Error parsing dependencies of pyodbc: Invalid version: '4.0.0-unsupported'\n",
      "\n",
      "[notice] A new release of pip is available: 23.3.1 -> 25.0.1\n",
      "[notice] To update, run: python.exe -m pip install --upgrade pip\n",
      "ERROR: Exception:\n",
      "Traceback (most recent call last):\n",
      "  File \"C:\\Users\\sheba\\anaconda3\\lib\\site-packages\\pip\\_internal\\cli\\base_command.py\", line 105, in _run_wrapper\n",
      "    status = _inner_run()\n",
      "  File \"C:\\Users\\sheba\\anaconda3\\lib\\site-packages\\pip\\_internal\\cli\\base_command.py\", line 96, in _inner_run\n",
      "    return self.run(options, args)\n",
      "  File \"C:\\Users\\sheba\\anaconda3\\lib\\site-packages\\pip\\_internal\\cli\\req_command.py\", line 67, in wrapper\n",
      "    return func(self, options, args)\n",
      "  File \"C:\\Users\\sheba\\anaconda3\\lib\\site-packages\\pip\\_internal\\commands\\install.py\", line 483, in run\n",
      "    installed_versions[distribution.canonical_name] = distribution.version\n",
      "  File \"C:\\Users\\sheba\\anaconda3\\lib\\site-packages\\pip\\_internal\\metadata\\pkg_resources.py\", line 192, in version\n",
      "    return parse_version(self._dist.version)\n",
      "  File \"C:\\Users\\sheba\\anaconda3\\lib\\site-packages\\pip\\_vendor\\packaging\\version.py\", line 56, in parse\n",
      "    return Version(version)\n",
      "  File \"C:\\Users\\sheba\\anaconda3\\lib\\site-packages\\pip\\_vendor\\packaging\\version.py\", line 202, in __init__\n",
      "    raise InvalidVersion(f\"Invalid version: '{version}'\")\n",
      "pip._vendor.packaging.version.InvalidVersion: Invalid version: '4.0.0-unsupported'\n"
     ]
    }
   ],
   "source": [
    "pip install tensorflow==2.12 keras==2.12\n"
   ]
  },
  {
   "cell_type": "code",
   "execution_count": 1,
   "metadata": {},
   "outputs": [
    {
     "name": "stderr",
     "output_type": "stream",
     "text": [
      "C:\\Users\\sheba\\anaconda3\\lib\\site-packages\\pandas\\core\\computation\\expressions.py:21: UserWarning: Pandas requires version '2.8.4' or newer of 'numexpr' (version '2.7.3' currently installed).\n",
      "  from pandas.core.computation.check import NUMEXPR_INSTALLED\n",
      "C:\\Users\\sheba\\anaconda3\\lib\\site-packages\\pandas\\core\\arrays\\masked.py:60: UserWarning: Pandas requires version '1.3.6' or newer of 'bottleneck' (version '1.3.2' currently installed).\n",
      "  from pandas.core import (\n"
     ]
    }
   ],
   "source": [
    "from tensorflow import keras\n",
    "import tensorflow as tf\n",
    "import numpy as np"
   ]
  },
  {
   "cell_type": "markdown",
   "metadata": {},
   "source": [
    "### 1.1. Load data\n"
   ]
  },
  {
   "cell_type": "code",
   "execution_count": null,
   "metadata": {},
   "outputs": [],
   "source": [
    "from tensorflow import keras\n",
    "import tensorflow as tf\n",
    "import numpy as np\n",
    "\n",
    "import h5py  \n"
   ]
  },
  {
   "cell_type": "code",
   "execution_count": 2,
   "metadata": {},
   "outputs": [
    {
     "name": "stdout",
     "output_type": "stream",
     "text": [
      "Downloading data from https://www.cs.toronto.edu/~kriz/cifar-10-python.tar.gz\n",
      "170498071/170498071 [==============================] - 5s 0us/step\n",
      "shape of x_train: (50000, 32, 32, 3)\n",
      "shape of y_train: (50000, 1)\n",
      "shape of x_test: (10000, 32, 32, 3)\n",
      "shape of y_test: (10000, 1)\n",
      "number of classes: 10\n"
     ]
    }
   ],
   "source": [
    "# Load Cifar-10 Data\n",
    "# This is just an example, you may load dataset from other packages.\n",
    "import keras\n",
    "import numpy as np\n",
    "\n",
    "# If you can not load keras dataset, un-comment these two lines.\n",
    "import ssl\n",
    "ssl._create_default_https_context = ssl._create_unverified_context\n",
    "\n",
    "(x_train, y_train), (x_test, y_test) = keras.datasets.cifar10.load_data()\n",
    "\n",
    "print('shape of x_train: ' + str(x_train.shape))\n",
    "print('shape of y_train: ' + str(y_train.shape))\n",
    "print('shape of x_test: ' + str(x_test.shape))\n",
    "print('shape of y_test: ' + str(y_test.shape))\n",
    "print('number of classes: ' + str(np.max(y_train) - np.min(y_train) + 1))"
   ]
  },
  {
   "cell_type": "markdown",
   "metadata": {},
   "source": [
    "### 1.2. One-hot encode the labels (5 points)\n",
    "\n",
    "In the input, a label is a scalar in $\\{0, 1, \\cdots , 9\\}$. One-hot encode transform such a scalar to a $10$-dim vector. E.g., a scalar ```y_train[j]=3``` is transformed to the vector ```y_train_vec[j]=[0, 0, 0, 1, 0, 0, 0, 0, 0, 0]```.\n",
    "\n",
    "1. Implement a function ```to_one_hot``` that transforms an $n\\times 1$ array to a $n\\times 10$ matrix.\n",
    "\n",
    "2. Apply the function to ```y_train``` and ```y_test```."
   ]
  },
  {
   "cell_type": "code",
   "execution_count": 3,
   "metadata": {},
   "outputs": [
    {
     "name": "stdout",
     "output_type": "stream",
     "text": [
      "Shape of y_train_vec: (50000, 10)\n",
      "Shape of y_test_vec: (10000, 10)\n",
      "[6]\n",
      "[0. 0. 0. 0. 0. 0. 1. 0. 0. 0.]\n"
     ]
    }
   ],
   "source": [
    "def to_one_hot(y, num_class=10):\n",
    "    a=y.shape[0]\n",
    "    \n",
    "    zero_matrix =np.zeros((a,num_class)) \n",
    "    \n",
    "    for i in range(a):\n",
    "        j=y[i]\n",
    "\n",
    "        zero_matrix[i,j]=1\n",
    "        \n",
    "        \n",
    "    return zero_matrix\n",
    "    \n",
    "\n",
    "\n",
    "y_train_vec = to_one_hot(y_train)\n",
    "y_test_vec = to_one_hot(y_test)\n",
    "\n",
    "print('Shape of y_train_vec: ' + str(y_train_vec.shape))\n",
    "print('Shape of y_test_vec: ' + str(y_test_vec.shape))\n",
    "\n",
    "print(y_train[0])\n",
    "print(y_train_vec[0])\n"
   ]
  },
  {
   "cell_type": "markdown",
   "metadata": {},
   "source": [
    "#### Remark: the outputs should be\n",
    "* Shape of y_train_vec: (50000, 10)\n",
    "* Shape of y_test_vec: (10000, 10)\n",
    "* [6]\n",
    "* [0. 0. 0. 0. 0. 0. 1. 0. 0. 0.]"
   ]
  },
  {
   "cell_type": "markdown",
   "metadata": {},
   "source": [
    "### 1.3. Randomly partition the training set to training and validation sets (5 points)\n",
    "\n",
    "Randomly partition the 50K training samples to 2 sets: \n",
    "* a training set containing 40K samples: x_tr, y_tr\n",
    "* a validation set containing 10K samples: x_val, y_val\n"
   ]
  },
  {
   "cell_type": "code",
   "execution_count": 39,
   "metadata": {},
   "outputs": [
    {
     "name": "stdout",
     "output_type": "stream",
     "text": [
      "Shape of y_train_vec: (50000, 32, 32, 3)\n"
     ]
    }
   ],
   "source": [
    "\n",
    "print('Shape of y_train_vec: ' + str(x_train.shape))\n"
   ]
  },
  {
   "cell_type": "code",
   "execution_count": 4,
   "metadata": {},
   "outputs": [
    {
     "name": "stdout",
     "output_type": "stream",
     "text": [
      "Shape of x_valid_vec: (10000, 32, 32, 3)\n",
      "Shape of y_valid_vec: (10000, 10)\n",
      "Shape of x_train_vec: (40000, 32, 32, 3)\n",
      "Shape of y_train_vec: (40000, 10)\n"
     ]
    }
   ],
   "source": [
    "import numpy as np\n",
    "\n",
    "\n",
    "# Generate  random  indices\n",
    "rand_indices = np.random.permutation(50000)\n",
    "\n",
    "# Splitting indices into training and validation sets\n",
    "train_indices = rand_indices[0:40000]  #  40,000 for training\n",
    "valid_indices = rand_indices[40000:] #  10,000 for validation\n",
    "\n",
    "# Create validation data\n",
    "x_valid_vec = x_train[valid_indices, :, :, :] \n",
    "y_valid_vec = y_train_vec[valid_indices, :]\n",
    "\n",
    "# Create training data\n",
    "x_train_vec = x_train[train_indices, :, :, :]\n",
    "y_train_vec = y_train_vec[train_indices, :]\n",
    "\n",
    "#  Print the shapes of the resulting sets\n",
    "print('Shape of x_valid_vec:', x_valid_vec.shape)\n",
    "print('Shape of y_valid_vec:', y_valid_vec.shape)\n",
    "print('Shape of x_train_vec:', x_train_vec.shape)\n",
    "print('Shape of y_train_vec:', y_train_vec.shape)"
   ]
  },
  {
   "cell_type": "markdown",
   "metadata": {},
   "source": [
    "## 2. Build a CNN and tune its hyper-parameters (50 points)\n",
    "\n",
    "- Build a convolutional neural network model using the below structure:\n",
    "\n",
    "- It should have a structure of: Conv - ReLU - Max Pool - ConV - ReLU - Max Pool - Dense - ReLU - Dense - Softmax\n",
    "\n",
    "- In the graph 3@32x32 means the dimension of input image, 32@30x30 means it has 32 filters and the dimension now becomes 30x30 after the convolution.\n",
    "- All convolutional layers (Conv) should have stride = 1 and no padding.\n",
    "- Max Pooling has a pool size of 2 by 2.\n",
    "\n",
    "\n"
   ]
  },
  {
   "cell_type": "markdown",
   "metadata": {},
   "source": [
    "<img src=\"network.PNG\"/>"
   ]
  },
  {
   "cell_type": "markdown",
   "metadata": {},
   "source": [
    "- You may use the validation data to tune the hyper-parameters (e.g., learning rate, and optimization algorithm)\n",
    "- Do NOT use test data for hyper-parameter tuning!!!\n",
    "- Try to achieve a validation accuracy as high as possible."
   ]
  },
  {
   "cell_type": "code",
   "execution_count": 6,
   "metadata": {},
   "outputs": [],
   "source": [
    "# Build the model\n",
    "\n",
    "\n",
    "from keras import models\n",
    "from keras import layers\n",
    "model = models.Sequential([\n",
    "        layers.Conv2D(32, (3,3), activation='relu', input_shape=(32,32,3)),\n",
    "        layers.MaxPooling2D((2,2)),\n",
    "        layers.Conv2D(64, (4,4), activation='relu'),\n",
    "        layers.MaxPooling2D((2,2)),\n",
    "        layers.Flatten(),\n",
    "        layers.Dense(256, activation='relu'),\n",
    "        layers.Dense(10, activation='softmax')\n",
    "    ])\n",
    "\n",
    "\n"
   ]
  },
  {
   "cell_type": "code",
   "execution_count": 7,
   "metadata": {},
   "outputs": [],
   "source": [
    "# Define model optimizer and loss function\n",
    "from keras.optimizers import RMSprop\n",
    "\n",
    "optimizer = RMSprop(learning_rate=0.0001) \n",
    "\n",
    "model.compile(optimizer=optimizer, \n",
    "              loss='categorical_crossentropy',\n",
    "              metrics=['accuracy'])\n"
   ]
  },
  {
   "cell_type": "code",
   "execution_count": 8,
   "metadata": {},
   "outputs": [
    {
     "name": "stdout",
     "output_type": "stream",
     "text": [
      "Epoch 1/50\n",
      "313/313 [==============================] - 37s 114ms/step - loss: 4.3361 - accuracy: 0.2684 - val_loss: 1.9172 - val_accuracy: 0.3705\n",
      "Epoch 2/50\n",
      "313/313 [==============================] - 37s 117ms/step - loss: 1.6303 - accuracy: 0.4374 - val_loss: 1.5300 - val_accuracy: 0.4687\n",
      "Epoch 3/50\n",
      "313/313 [==============================] - 36s 115ms/step - loss: 1.3402 - accuracy: 0.5330 - val_loss: 1.4131 - val_accuracy: 0.5105\n",
      "Epoch 4/50\n",
      "313/313 [==============================] - 36s 115ms/step - loss: 1.1661 - accuracy: 0.5962 - val_loss: 1.4264 - val_accuracy: 0.5265\n",
      "Epoch 5/50\n",
      "313/313 [==============================] - 35s 110ms/step - loss: 1.0350 - accuracy: 0.6414 - val_loss: 1.3559 - val_accuracy: 0.5436\n",
      "Epoch 6/50\n",
      "313/313 [==============================] - 34s 109ms/step - loss: 0.9284 - accuracy: 0.6820 - val_loss: 1.2664 - val_accuracy: 0.5789\n",
      "Epoch 7/50\n",
      "313/313 [==============================] - 35s 113ms/step - loss: 0.8322 - accuracy: 0.7142 - val_loss: 1.2688 - val_accuracy: 0.5824\n",
      "Epoch 8/50\n",
      "313/313 [==============================] - 34s 109ms/step - loss: 0.7427 - accuracy: 0.7490 - val_loss: 1.3071 - val_accuracy: 0.5812\n",
      "Epoch 9/50\n",
      "313/313 [==============================] - 34s 109ms/step - loss: 0.6629 - accuracy: 0.7753 - val_loss: 1.2724 - val_accuracy: 0.6002\n",
      "Epoch 10/50\n",
      "313/313 [==============================] - 36s 114ms/step - loss: 0.5942 - accuracy: 0.8016 - val_loss: 1.2626 - val_accuracy: 0.6017\n",
      "Epoch 11/50\n",
      "313/313 [==============================] - 36s 114ms/step - loss: 0.5281 - accuracy: 0.8256 - val_loss: 1.3097 - val_accuracy: 0.6055\n",
      "Epoch 12/50\n",
      "313/313 [==============================] - 36s 114ms/step - loss: 0.4661 - accuracy: 0.8470 - val_loss: 1.3200 - val_accuracy: 0.6105\n",
      "Epoch 13/50\n",
      "313/313 [==============================] - 35s 113ms/step - loss: 0.4109 - accuracy: 0.8676 - val_loss: 1.3370 - val_accuracy: 0.6165\n",
      "Epoch 14/50\n",
      "313/313 [==============================] - 37s 120ms/step - loss: 0.3585 - accuracy: 0.8876 - val_loss: 1.4353 - val_accuracy: 0.6036\n",
      "Epoch 15/50\n",
      "313/313 [==============================] - 34s 110ms/step - loss: 0.3122 - accuracy: 0.9040 - val_loss: 1.4463 - val_accuracy: 0.6070\n",
      "Epoch 16/50\n",
      "313/313 [==============================] - 35s 113ms/step - loss: 0.2712 - accuracy: 0.9178 - val_loss: 1.5519 - val_accuracy: 0.5982\n",
      "Epoch 17/50\n",
      "313/313 [==============================] - 35s 111ms/step - loss: 0.2320 - accuracy: 0.9320 - val_loss: 1.6206 - val_accuracy: 0.6023\n",
      "Epoch 18/50\n",
      "313/313 [==============================] - 40s 127ms/step - loss: 0.1972 - accuracy: 0.9455 - val_loss: 1.6459 - val_accuracy: 0.6023\n",
      "Epoch 19/50\n",
      "313/313 [==============================] - 43s 137ms/step - loss: 0.1682 - accuracy: 0.9549 - val_loss: 1.6381 - val_accuracy: 0.6132\n",
      "Epoch 20/50\n",
      "313/313 [==============================] - 42s 136ms/step - loss: 0.1398 - accuracy: 0.9636 - val_loss: 1.7234 - val_accuracy: 0.6131\n",
      "Epoch 21/50\n",
      "313/313 [==============================] - 43s 136ms/step - loss: 0.1184 - accuracy: 0.9706 - val_loss: 1.7443 - val_accuracy: 0.6225\n",
      "Epoch 22/50\n",
      "313/313 [==============================] - 43s 136ms/step - loss: 0.0975 - accuracy: 0.9770 - val_loss: 1.8305 - val_accuracy: 0.6198\n",
      "Epoch 23/50\n",
      "313/313 [==============================] - 43s 138ms/step - loss: 0.0821 - accuracy: 0.9810 - val_loss: 1.9256 - val_accuracy: 0.6158\n",
      "Epoch 24/50\n",
      "313/313 [==============================] - 45s 144ms/step - loss: 0.0683 - accuracy: 0.9851 - val_loss: 1.9448 - val_accuracy: 0.6216\n",
      "Epoch 25/50\n",
      "313/313 [==============================] - 45s 142ms/step - loss: 0.0576 - accuracy: 0.9879 - val_loss: 1.9874 - val_accuracy: 0.6294\n",
      "Epoch 26/50\n",
      "313/313 [==============================] - 45s 143ms/step - loss: 0.0486 - accuracy: 0.9896 - val_loss: 2.2345 - val_accuracy: 0.6085\n",
      "Epoch 27/50\n",
      "313/313 [==============================] - 46s 146ms/step - loss: 0.0409 - accuracy: 0.9919 - val_loss: 2.3162 - val_accuracy: 0.5980\n",
      "Epoch 28/50\n",
      "313/313 [==============================] - 46s 148ms/step - loss: 0.0347 - accuracy: 0.9937 - val_loss: 2.2299 - val_accuracy: 0.6182\n",
      "Epoch 29/50\n",
      "313/313 [==============================] - 47s 150ms/step - loss: 0.0313 - accuracy: 0.9939 - val_loss: 2.3811 - val_accuracy: 0.6101\n",
      "Epoch 30/50\n",
      "313/313 [==============================] - 45s 142ms/step - loss: 0.0265 - accuracy: 0.9948 - val_loss: 2.4668 - val_accuracy: 0.6113\n",
      "Epoch 31/50\n",
      "313/313 [==============================] - 43s 138ms/step - loss: 0.0248 - accuracy: 0.9948 - val_loss: 2.4294 - val_accuracy: 0.6136\n",
      "Epoch 32/50\n",
      "313/313 [==============================] - 43s 139ms/step - loss: 0.0207 - accuracy: 0.9964 - val_loss: 2.3581 - val_accuracy: 0.6325\n",
      "Epoch 33/50\n",
      "313/313 [==============================] - 44s 141ms/step - loss: 0.0211 - accuracy: 0.9954 - val_loss: 2.4235 - val_accuracy: 0.6287\n",
      "Epoch 34/50\n",
      "313/313 [==============================] - 45s 144ms/step - loss: 0.0163 - accuracy: 0.9966 - val_loss: 2.4560 - val_accuracy: 0.6227\n",
      "Epoch 35/50\n",
      "313/313 [==============================] - 45s 145ms/step - loss: 0.0161 - accuracy: 0.9966 - val_loss: 2.5550 - val_accuracy: 0.6321\n",
      "Epoch 36/50\n",
      "313/313 [==============================] - 43s 138ms/step - loss: 0.0167 - accuracy: 0.9963 - val_loss: 2.9406 - val_accuracy: 0.6056\n",
      "Epoch 37/50\n",
      "313/313 [==============================] - 42s 135ms/step - loss: 0.0132 - accuracy: 0.9972 - val_loss: 2.7632 - val_accuracy: 0.6190\n",
      "Epoch 38/50\n",
      "313/313 [==============================] - 42s 135ms/step - loss: 0.0145 - accuracy: 0.9967 - val_loss: 2.7812 - val_accuracy: 0.6282\n",
      "Epoch 39/50\n",
      "313/313 [==============================] - 43s 138ms/step - loss: 0.0137 - accuracy: 0.9966 - val_loss: 2.6697 - val_accuracy: 0.6325\n",
      "Epoch 40/50\n",
      "313/313 [==============================] - 43s 136ms/step - loss: 0.0123 - accuracy: 0.9972 - val_loss: 2.7278 - val_accuracy: 0.6324\n",
      "Epoch 41/50\n",
      "313/313 [==============================] - 44s 140ms/step - loss: 0.0104 - accuracy: 0.9976 - val_loss: 2.7958 - val_accuracy: 0.6338\n",
      "Epoch 42/50\n",
      "313/313 [==============================] - 47s 149ms/step - loss: 0.0118 - accuracy: 0.9969 - val_loss: 2.8456 - val_accuracy: 0.6276\n",
      "Epoch 43/50\n",
      "313/313 [==============================] - 43s 136ms/step - loss: 0.0107 - accuracy: 0.9974 - val_loss: 3.0057 - val_accuracy: 0.6213\n",
      "Epoch 44/50\n",
      "313/313 [==============================] - 44s 141ms/step - loss: 0.0090 - accuracy: 0.9977 - val_loss: 2.8652 - val_accuracy: 0.6312\n",
      "Epoch 45/50\n",
      "313/313 [==============================] - 46s 147ms/step - loss: 0.0092 - accuracy: 0.9977 - val_loss: 3.2588 - val_accuracy: 0.6178\n",
      "Epoch 46/50\n",
      "313/313 [==============================] - 45s 144ms/step - loss: 0.0081 - accuracy: 0.9979 - val_loss: 3.1646 - val_accuracy: 0.6225\n",
      "Epoch 47/50\n",
      "313/313 [==============================] - 46s 148ms/step - loss: 0.0088 - accuracy: 0.9978 - val_loss: 3.1797 - val_accuracy: 0.6209\n",
      "Epoch 48/50\n",
      "313/313 [==============================] - 43s 139ms/step - loss: 0.0075 - accuracy: 0.9978 - val_loss: 3.1114 - val_accuracy: 0.6284\n",
      "Epoch 49/50\n",
      "313/313 [==============================] - 44s 142ms/step - loss: 0.0083 - accuracy: 0.9977 - val_loss: 3.0579 - val_accuracy: 0.6380\n",
      "Epoch 50/50\n",
      "313/313 [==============================] - 46s 147ms/step - loss: 0.0089 - accuracy: 0.9975 - val_loss: 3.1255 - val_accuracy: 0.6354\n"
     ]
    }
   ],
   "source": [
    "# Train the model and store model parameters/loss values\n",
    "history = model.fit(x_train_vec, y_train_vec, batch_size=128, epochs=50, validation_data=(x_valid_vec, y_valid_vec))"
   ]
  },
  {
   "cell_type": "code",
   "execution_count": null,
   "metadata": {},
   "outputs": [],
   "source": []
  },
  {
   "cell_type": "markdown",
   "metadata": {},
   "source": [
    "## 3. Plot the training and validation loss curve versus epochs. (5 points)"
   ]
  },
  {
   "cell_type": "code",
   "execution_count": 9,
   "metadata": {},
   "outputs": [
    {
     "data": {
      "image/png": "[encoded data removed]",
      "text/plain": [
       "<Figure size 432x288 with 1 Axes>"
      ]
     },
     "metadata": {
      "needs_background": "light"
     },
     "output_type": "display_data"
    }
   ],
   "source": [
    "# Plot the loss curve\n",
    "\n",
    "import matplotlib.pyplot as plt\n",
    "%matplotlib inline\n",
    "\n",
    "epochs = range(50)  \n",
    "train_acc = history.history['loss']\n",
    "valid_acc = history.history['val_loss']\n",
    "\n",
    "plt.plot(epochs, train_acc, 'bo', label='Training loss')\n",
    "plt.plot(epochs, valid_acc, 'r', label='Validation loss')\n",
    "\n",
    "plt.xlabel('Epochs')\n",
    "plt.ylabel('loss')\n",
    "\n",
    "plt.legend()\n",
    "plt.show()"
   ]
  },
  {
   "cell_type": "code",
   "execution_count": null,
   "metadata": {},
   "outputs": [],
   "source": []
  },
  {
   "cell_type": "markdown",
   "metadata": {},
   "source": [
    "I wrote a function for the cnn model  and used it in loop for finding the best hyperparameters\n",
    "(learning rate and optimizer)"
   ]
  },
  {
   "cell_type": "code",
   "execution_count": 45,
   "metadata": {},
   "outputs": [],
   "source": [
    "\n",
    "\n",
    "def build_model(optimizer, learning_rate):\n",
    "    model = models.Sequential([\n",
    "        layers.Conv2D(32, (3,3), activation='relu', input_shape=(32,32,3)),\n",
    "        layers.MaxPooling2D((2,2)),\n",
    "        layers.Conv2D(64, (4,4), activation='relu'),\n",
    "        layers.MaxPooling2D((2,2)),\n",
    "        layers.Flatten(),\n",
    "        layers.Dense(256, activation='relu'),\n",
    "        layers.Dense(10, activation='softmax')\n",
    "    ])\n",
    "   \n",
    "    model.compile(optimizer=optimizer(learning_rate=learning_rate), \n",
    "                  loss='categorical_crossentropy', \n",
    "                  metrics=['accuracy'])\n",
    "    \n",
    "    history = model.fit(x_train_vec, y_train_vec, epochs=5, validation_data=(x_valid_vec, y_valid_vec), verbose=0)\n",
    "\n",
    "    return history.history['val_accuracy'][-1] \n",
    "                           \n",
    "                  "
   ]
  },
  {
   "cell_type": "code",
   "execution_count": 41,
   "metadata": {},
   "outputs": [],
   "source": [
    "                  \n",
    "optimizers = [keras.optimizers.Adam, keras.optimizers.SGD, keras.optimizers.RMSprop]\n",
    "learning_rates = [0.001, 0.0005, 0.0001]"
   ]
  },
  {
   "cell_type": "code",
   "execution_count": 20,
   "metadata": {},
   "outputs": [
    {
     "name": "stdout",
     "output_type": "stream",
     "text": [
      "\n",
      "Best Hyperparameters: {'optimizer': <class 'keras.optimizers.legacy.adam.Adam'>, 'learning_rate': 0.0005}, Best Accuracy: 0.6236\n"
     ]
    }
   ],
   "source": [
    "best_accuracy=0\n",
    "best_param={}\n",
    "\n",
    "for i in optimizers:\n",
    "    for j in learning_rates:\n",
    "        accuracy=build_model(i, j)\n",
    "        \n",
    "        if accuracy>best_accuracy:\n",
    "            best_accuracy=accuracy\n",
    "            best_param={'optimizer': i, 'learning_rate': j}\n",
    "            \n",
    "print(f\"\\nBest Hyperparameters: {best_param}, Best Accuracy: {best_accuracy:.4f}\")\n",
    "\n",
    "\n",
    "            \n",
    "        "
   ]
  },
  {
   "cell_type": "markdown",
   "metadata": {},
   "source": [
    "## 4. Train (again) and evaluate the model (5 points)\n",
    "\n",
    "- To this end, you have found the \"best\" hyper-parameters. \n",
    "- Now, fix the hyper-parameters and train the network on the entire training set (all the 50K training samples)\n",
    "- Evaluate your model on the test set."
   ]
  },
  {
   "cell_type": "markdown",
   "metadata": {},
   "source": [
    "### Train the model on the entire training set\n",
    "\n",
    "Why? Previously, you used 40K samples for training; you wasted 10K samples for the sake of hyper-parameter tuning. Now you already know the hyper-parameters, so why not using all the 50K samples for training?"
   ]
  },
  {
   "cell_type": "code",
   "execution_count": 21,
   "metadata": {},
   "outputs": [
    {
     "name": "stdout",
     "output_type": "stream",
     "text": [
      "Epoch 1/50\n",
      "391/391 [==============================] - 52s 129ms/step - loss: 0.7503 - accuracy: 0.8014\n",
      "Epoch 2/50\n",
      "391/391 [==============================] - 51s 130ms/step - loss: 0.4194 - accuracy: 0.8686\n",
      "Epoch 3/50\n",
      "391/391 [==============================] - 48s 122ms/step - loss: 0.2881 - accuracy: 0.9049\n",
      "Epoch 4/50\n",
      "391/391 [==============================] - 47s 120ms/step - loss: 0.2362 - accuracy: 0.9201\n",
      "Epoch 5/50\n",
      "391/391 [==============================] - 49s 126ms/step - loss: 0.1967 - accuracy: 0.9339\n",
      "Epoch 6/50\n",
      "391/391 [==============================] - 48s 123ms/step - loss: 0.1842 - accuracy: 0.9374\n",
      "Epoch 7/50\n",
      "391/391 [==============================] - 49s 125ms/step - loss: 0.1543 - accuracy: 0.9481\n",
      "Epoch 8/50\n",
      "391/391 [==============================] - 48s 122ms/step - loss: 0.1438 - accuracy: 0.9509\n",
      "Epoch 9/50\n",
      "391/391 [==============================] - 50s 129ms/step - loss: 0.1408 - accuracy: 0.9536\n",
      "Epoch 10/50\n",
      "391/391 [==============================] - 50s 128ms/step - loss: 0.1162 - accuracy: 0.9610\n",
      "Epoch 11/50\n",
      "391/391 [==============================] - 51s 130ms/step - loss: 0.1320 - accuracy: 0.9559\n",
      "Epoch 12/50\n",
      "391/391 [==============================] - 48s 121ms/step - loss: 0.0962 - accuracy: 0.9681\n",
      "Epoch 13/50\n",
      "391/391 [==============================] - 50s 129ms/step - loss: 0.1214 - accuracy: 0.9601\n",
      "Epoch 14/50\n",
      "391/391 [==============================] - 49s 126ms/step - loss: 0.1203 - accuracy: 0.9606\n",
      "Epoch 15/50\n",
      "391/391 [==============================] - 40s 102ms/step - loss: 0.0946 - accuracy: 0.9690\n",
      "Epoch 16/50\n",
      "391/391 [==============================] - 37s 95ms/step - loss: 0.0938 - accuracy: 0.9686\n",
      "Epoch 17/50\n",
      "391/391 [==============================] - 37s 95ms/step - loss: 0.0911 - accuracy: 0.9702\n",
      "Epoch 18/50\n",
      "391/391 [==============================] - 38s 97ms/step - loss: 0.0886 - accuracy: 0.9705\n",
      "Epoch 19/50\n",
      "391/391 [==============================] - 37s 96ms/step - loss: 0.0898 - accuracy: 0.9712\n",
      "Epoch 20/50\n",
      "391/391 [==============================] - 37s 95ms/step - loss: 0.0799 - accuracy: 0.9735\n",
      "Epoch 21/50\n",
      "391/391 [==============================] - 38s 97ms/step - loss: 0.0849 - accuracy: 0.9718\n",
      "Epoch 22/50\n",
      "391/391 [==============================] - 38s 97ms/step - loss: 0.0732 - accuracy: 0.9769\n",
      "Epoch 23/50\n",
      "391/391 [==============================] - 40s 101ms/step - loss: 0.0938 - accuracy: 0.9713\n",
      "Epoch 24/50\n",
      "391/391 [==============================] - 40s 102ms/step - loss: 0.0759 - accuracy: 0.9763\n",
      "Epoch 25/50\n",
      "391/391 [==============================] - 41s 104ms/step - loss: 0.0612 - accuracy: 0.9798\n",
      "Epoch 26/50\n",
      "391/391 [==============================] - 39s 100ms/step - loss: 0.0818 - accuracy: 0.9743\n",
      "Epoch 27/50\n",
      "391/391 [==============================] - 42s 108ms/step - loss: 0.0666 - accuracy: 0.9786\n",
      "Epoch 28/50\n",
      "391/391 [==============================] - 41s 104ms/step - loss: 0.0843 - accuracy: 0.9740\n",
      "Epoch 29/50\n",
      "391/391 [==============================] - 42s 107ms/step - loss: 0.0729 - accuracy: 0.9782\n",
      "Epoch 30/50\n",
      "391/391 [==============================] - 41s 104ms/step - loss: 0.0667 - accuracy: 0.9793\n",
      "Epoch 31/50\n",
      "391/391 [==============================] - 38s 96ms/step - loss: 0.0443 - accuracy: 0.9860\n",
      "Epoch 32/50\n",
      "391/391 [==============================] - 38s 96ms/step - loss: 0.0609 - accuracy: 0.9813\n",
      "Epoch 33/50\n",
      "391/391 [==============================] - 39s 99ms/step - loss: 0.0716 - accuracy: 0.9787\n",
      "Epoch 34/50\n",
      "391/391 [==============================] - 40s 101ms/step - loss: 0.0760 - accuracy: 0.9776\n",
      "Epoch 35/50\n",
      "391/391 [==============================] - 40s 102ms/step - loss: 0.0763 - accuracy: 0.9776\n",
      "Epoch 36/50\n",
      "391/391 [==============================] - 42s 108ms/step - loss: 0.0553 - accuracy: 0.9834\n",
      "Epoch 39/50\n",
      "391/391 [==============================] - 42s 106ms/step - loss: 0.0541 - accuracy: 0.9841\n",
      "Epoch 40/50\n",
      "391/391 [==============================] - 43s 110ms/step - loss: 0.0749 - accuracy: 0.9787\n",
      "Epoch 41/50\n",
      "391/391 [==============================] - 42s 106ms/step - loss: 0.0648 - accuracy: 0.9813\n",
      "Epoch 42/50\n",
      "391/391 [==============================] - 42s 108ms/step - loss: 0.0497 - accuracy: 0.9858\n",
      "Epoch 43/50\n",
      "391/391 [==============================] - 42s 109ms/step - loss: 0.0528 - accuracy: 0.9845\n",
      "Epoch 44/50\n",
      "391/391 [==============================] - 41s 105ms/step - loss: 0.0516 - accuracy: 0.9843\n",
      "Epoch 45/50\n",
      "391/391 [==============================] - 41s 106ms/step - loss: 0.0410 - accuracy: 0.9883\n",
      "Epoch 46/50\n",
      "391/391 [==============================] - 41s 106ms/step - loss: 0.0567 - accuracy: 0.9842\n",
      "Epoch 47/50\n",
      "391/391 [==============================] - 41s 105ms/step - loss: 0.0585 - accuracy: 0.9839\n",
      "Epoch 48/50\n",
      "391/391 [==============================] - 42s 107ms/step - loss: 0.0505 - accuracy: 0.9853\n",
      "Epoch 49/50\n",
      "391/391 [==============================] - 42s 107ms/step - loss: 0.0481 - accuracy: 0.9872\n",
      "Epoch 50/50\n",
      "391/391 [==============================] - 41s 106ms/step - loss: 0.0726 - accuracy: 0.9803\n"
     ]
    }
   ],
   "source": [
    "#<Compile your model again (using the same hyper-parameters you tuned above)>\n",
    "#<Train your model on the entire training set (50K samples)>\n",
    "\n",
    "\n",
    "model.compile(optimizer=keras.optimizers.Adam(learning_rate=0.0005),\n",
    "              loss='categorical_crossentropy', \n",
    "              metrics=['accuracy'])\n",
    "\n",
    "y_train_vec_1 = to_one_hot(y_train)\n",
    "\n",
    "history = model.fit(x_train, y_train_vec_1, batch_size=128, epochs=50)\n"
   ]
  },
  {
   "cell_type": "code",
   "execution_count": null,
   "metadata": {},
   "outputs": [],
   "source": []
  },
  {
   "cell_type": "markdown",
   "metadata": {},
   "source": [
    "## 5. Evaluate the model on the test set (5 points)\n",
    "\n",
    "Do NOT used the test set until now. Make sure that your model parameters and hyper-parameters are independent of the test set."
   ]
  },
  {
   "cell_type": "code",
   "execution_count": 31,
   "metadata": {},
   "outputs": [
    {
     "name": "stdout",
     "output_type": "stream",
     "text": [
      "313/313 - 6s - loss: 1.8627e-04 - accuracy: 1.0000 - 6s/epoch - 18ms/step\n"
     ]
    }
   ],
   "source": [
    "# Evaluating  model performance  on testing data.\n",
    "model.compile(optimizer=keras.optimizers.Adam(learning_rate=0.0005),\n",
    "              loss='categorical_crossentropy', \n",
    "              metrics=['accuracy'])\n",
    "\n",
    "y_test_vec_1 = to_one_hot(y_test)\n",
    "\n",
    "test_loss, test_acc = model.evaluate(x_test, y_test_vec_1, verbose=2)\n"
   ]
  },
  {
   "cell_type": "code",
   "execution_count": null,
   "metadata": {},
   "outputs": [],
   "source": []
  },
  {
   "cell_type": "markdown",
   "metadata": {},
   "source": [
    "## 6. Building model with new structure (25 points)\n",
    "- In this section, you can build your model with adding new layers (e.g, BN layer or dropout layer, ...)\n",
    "- If you want to regularize a ```Conv/Dense layer```, you should place a ```Dropout layer``` before the ```Conv/Dense layer```.\n",
    "- You can try to compare their loss curve and testing accuracy and analyze your findings.\n",
    "- You need to try at lease two different structures."
   ]
  },
  {
   "cell_type": "markdown",
   "metadata": {},
   "source": [
    "The batch normalization layer has already been implemented in many packages. You may simply call the function to build the layer. For example: torch.nn.BatchNorm2d() using pytroch package, keras.layers.BatchNormalization() using keras package.\n",
    "The location of BN layer: Please make sure BatchNormalization is between a Conv/Dense layer and an activation layer."
   ]
  },
  {
   "cell_type": "code",
   "execution_count": 32,
   "metadata": {},
   "outputs": [
    {
     "name": "stdout",
     "output_type": "stream",
     "text": [
      "Epoch 1/50\n",
      "391/391 [==============================] - 76s 189ms/step - loss: 1.5915 - accuracy: 0.4297\n",
      "Epoch 2/50\n",
      "391/391 [==============================] - 73s 186ms/step - loss: 1.2201 - accuracy: 0.5621\n",
      "Epoch 3/50\n",
      "391/391 [==============================] - 74s 188ms/step - loss: 1.0733 - accuracy: 0.6198\n",
      "Epoch 4/50\n",
      "391/391 [==============================] - 72s 183ms/step - loss: 0.9851 - accuracy: 0.6534\n",
      "Epoch 5/50\n",
      "391/391 [==============================] - 72s 184ms/step - loss: 0.9189 - accuracy: 0.6773\n",
      "Epoch 6/50\n",
      "391/391 [==============================] - 73s 187ms/step - loss: 0.8652 - accuracy: 0.6947\n",
      "Epoch 7/50\n",
      "391/391 [==============================] - 71s 182ms/step - loss: 0.8224 - accuracy: 0.7102\n",
      "Epoch 8/50\n",
      "391/391 [==============================] - 71s 183ms/step - loss: 0.7816 - accuracy: 0.7242\n",
      "Epoch 9/50\n",
      "391/391 [==============================] - 73s 187ms/step - loss: 0.7463 - accuracy: 0.7377\n",
      "Epoch 10/50\n",
      "391/391 [==============================] - 73s 188ms/step - loss: 0.7161 - accuracy: 0.7486\n",
      "Epoch 11/50\n",
      "391/391 [==============================] - 72s 184ms/step - loss: 0.6814 - accuracy: 0.7619\n",
      "Epoch 12/50\n",
      "391/391 [==============================] - 78s 200ms/step - loss: 0.6622 - accuracy: 0.7662\n",
      "Epoch 13/50\n",
      "391/391 [==============================] - 73s 186ms/step - loss: 0.6308 - accuracy: 0.7786\n",
      "Epoch 14/50\n",
      "391/391 [==============================] - 72s 184ms/step - loss: 0.6135 - accuracy: 0.7843\n",
      "Epoch 15/50\n",
      "391/391 [==============================] - 73s 187ms/step - loss: 0.5914 - accuracy: 0.7896\n",
      "Epoch 16/50\n",
      "391/391 [==============================] - 74s 190ms/step - loss: 0.5753 - accuracy: 0.7979\n",
      "Epoch 17/50\n",
      "391/391 [==============================] - 74s 189ms/step - loss: 0.5589 - accuracy: 0.8031\n",
      "Epoch 18/50\n",
      "391/391 [==============================] - 74s 189ms/step - loss: 0.5402 - accuracy: 0.8090\n",
      "Epoch 19/50\n",
      "391/391 [==============================] - 72s 185ms/step - loss: 0.5249 - accuracy: 0.8162\n",
      "Epoch 20/50\n",
      "391/391 [==============================] - 71s 181ms/step - loss: 0.5097 - accuracy: 0.8216\n",
      "Epoch 21/50\n",
      "391/391 [==============================] - 71s 182ms/step - loss: 0.4904 - accuracy: 0.8245\n",
      "Epoch 22/50\n",
      "391/391 [==============================] - 71s 182ms/step - loss: 0.4800 - accuracy: 0.8312\n",
      "Epoch 23/50\n",
      "391/391 [==============================] - 72s 185ms/step - loss: 0.4644 - accuracy: 0.8372\n",
      "Epoch 24/50\n",
      "391/391 [==============================] - 76s 195ms/step - loss: 0.4502 - accuracy: 0.8417\n",
      "Epoch 25/50\n",
      "391/391 [==============================] - 77s 196ms/step - loss: 0.4361 - accuracy: 0.8463\n",
      "Epoch 26/50\n",
      "391/391 [==============================] - 77s 198ms/step - loss: 0.4247 - accuracy: 0.8505\n",
      "Epoch 27/50\n",
      "391/391 [==============================] - 74s 190ms/step - loss: 0.4107 - accuracy: 0.8541\n",
      "Epoch 28/50\n",
      "391/391 [==============================] - 76s 195ms/step - loss: 0.4005 - accuracy: 0.8568\n",
      "Epoch 29/50\n",
      "391/391 [==============================] - 74s 190ms/step - loss: 0.3886 - accuracy: 0.8626\n",
      "Epoch 30/50\n",
      "391/391 [==============================] - 74s 189ms/step - loss: 0.3723 - accuracy: 0.8685\n",
      "Epoch 31/50\n",
      "391/391 [==============================] - 72s 184ms/step - loss: 0.3689 - accuracy: 0.8688\n",
      "Epoch 32/50\n",
      "391/391 [==============================] - 71s 182ms/step - loss: 0.3602 - accuracy: 0.8711\n",
      "Epoch 33/50\n",
      "391/391 [==============================] - 72s 185ms/step - loss: 0.3469 - accuracy: 0.8763\n",
      "Epoch 34/50\n",
      "391/391 [==============================] - 74s 189ms/step - loss: 0.3366 - accuracy: 0.8802\n",
      "Epoch 35/50\n",
      "391/391 [==============================] - 73s 188ms/step - loss: 0.3291 - accuracy: 0.8822\n",
      "Epoch 36/50\n",
      "391/391 [==============================] - 71s 182ms/step - loss: 0.3256 - accuracy: 0.8835\n",
      "Epoch 37/50\n",
      "391/391 [==============================] - 71s 183ms/step - loss: 0.3147 - accuracy: 0.8872\n",
      "Epoch 38/50\n",
      "391/391 [==============================] - 77s 196ms/step - loss: 0.3064 - accuracy: 0.8904\n",
      "Epoch 39/50\n",
      "391/391 [==============================] - 73s 188ms/step - loss: 0.2971 - accuracy: 0.8936\n",
      "Epoch 40/50\n",
      "391/391 [==============================] - 79s 202ms/step - loss: 0.2969 - accuracy: 0.8937\n",
      "Epoch 41/50\n",
      "391/391 [==============================] - 78s 200ms/step - loss: 0.2885 - accuracy: 0.8980\n",
      "Epoch 42/50\n",
      "391/391 [==============================] - 83s 211ms/step - loss: 0.2757 - accuracy: 0.9033\n",
      "Epoch 43/50\n",
      "391/391 [==============================] - 73s 186ms/step - loss: 0.2767 - accuracy: 0.9005\n",
      "Epoch 44/50\n",
      "391/391 [==============================] - 71s 182ms/step - loss: 0.2717 - accuracy: 0.9029\n",
      "Epoch 45/50\n",
      "391/391 [==============================] - 70s 179ms/step - loss: 0.2570 - accuracy: 0.9092\n",
      "Epoch 46/50\n",
      "391/391 [==============================] - 70s 180ms/step - loss: 0.2581 - accuracy: 0.9074\n",
      "Epoch 47/50\n",
      "391/391 [==============================] - 72s 184ms/step - loss: 0.2529 - accuracy: 0.9092\n",
      "Epoch 48/50\n",
      "391/391 [==============================] - 71s 182ms/step - loss: 0.2460 - accuracy: 0.9119\n",
      "Epoch 49/50\n",
      "391/391 [==============================] - 73s 186ms/step - loss: 0.2440 - accuracy: 0.9132\n",
      "Epoch 50/50\n",
      "391/391 [==============================] - 86s 219ms/step - loss: 0.2372 - accuracy: 0.9154\n"
     ]
    }
   ],
   "source": [
    "from keras import models\n",
    "from keras import layers\n",
    "from keras.optimizers import Adam\n",
    "\n",
    "# Build the model\n",
    "model_1 = models.Sequential([\n",
    "    layers.Conv2D(32, (3,3), activation=None, input_shape=(32,32,3)),\n",
    "    layers.BatchNormalization(),\n",
    "    layers.Activation('relu'),\n",
    "\n",
    "    layers.MaxPooling2D((2,2)),\n",
    "\n",
    "    layers.Conv2D(64, (4,4), activation=None),\n",
    "    layers.BatchNormalization(),\n",
    "    layers.Activation('relu'),\n",
    "\n",
    "    layers.MaxPooling2D((2,2)),\n",
    "    layers.Flatten(),\n",
    "    layers.Dropout(0.5),\n",
    "    layers.Dense(256, activation='relu'),\n",
    "    layers.Dense(10, activation='softmax')\n",
    "])\n",
    "\n",
    "# Compile the model\n",
    "model_1.compile(optimizer=Adam(learning_rate=0.0005),\n",
    "                loss='categorical_crossentropy', \n",
    "                metrics=['accuracy'])\n",
    "\n",
    "# Convert y_train to one-hot encoding\n",
    "y_train_vec_1 = to_one_hot(y_train)\n",
    "\n",
    "# Train the model\n",
    "history_1 = model_1.fit(x_train, y_train_vec_1, batch_size=128, epochs=50)\n"
   ]
  },
  {
   "cell_type": "code",
   "execution_count": 44,
   "metadata": {},
   "outputs": [
    {
     "name": "stdout",
     "output_type": "stream",
     "text": [
      "313/313 - 7s - loss: 0.8775 - accuracy: 0.7557 - 7s/epoch - 22ms/step\n"
     ]
    }
   ],
   "source": [
    "# Evaluating  model performance  on testing data.\n",
    "model_1.compile(optimizer=keras.optimizers.Adam(learning_rate=0.0005),\n",
    "              loss='categorical_crossentropy', \n",
    "              metrics=['accuracy'])\n",
    "\n",
    "y_test_vec_1 = to_one_hot(y_test)\n",
    "\n",
    "test_loss, test_acc = model_1.evaluate(x_test, y_test_vec_1, verbose=2)\n"
   ]
  },
  {
   "cell_type": "code",
   "execution_count": null,
   "metadata": {},
   "outputs": [],
   "source": []
  },
  {
   "cell_type": "markdown",
   "metadata": {},
   "source": [
    "Second Structure"
   ]
  },
  {
   "cell_type": "code",
   "execution_count": 34,
   "metadata": {},
   "outputs": [
    {
     "name": "stdout",
     "output_type": "stream",
     "text": [
      "Epoch 1/50\n",
      "391/391 [==============================] - 57s 145ms/step - loss: 1.3589 - accuracy: 0.5175\n",
      "Epoch 2/50\n",
      "391/391 [==============================] - 57s 145ms/step - loss: 0.9875 - accuracy: 0.6527\n",
      "Epoch 3/50\n",
      "391/391 [==============================] - 57s 145ms/step - loss: 0.8493 - accuracy: 0.7022\n",
      "Epoch 4/50\n",
      "391/391 [==============================] - 57s 145ms/step - loss: 0.7563 - accuracy: 0.7380\n",
      "Epoch 5/50\n",
      "391/391 [==============================] - 57s 145ms/step - loss: 0.6806 - accuracy: 0.7646\n",
      "Epoch 6/50\n",
      "391/391 [==============================] - 59s 151ms/step - loss: 0.6118 - accuracy: 0.7860\n",
      "Epoch 7/50\n",
      "391/391 [==============================] - 59s 150ms/step - loss: 0.5629 - accuracy: 0.8046\n",
      "Epoch 8/50\n",
      "391/391 [==============================] - 58s 150ms/step - loss: 0.5105 - accuracy: 0.8227\n",
      "Epoch 9/50\n",
      "391/391 [==============================] - 57s 146ms/step - loss: 0.4571 - accuracy: 0.8411\n",
      "Epoch 10/50\n",
      "391/391 [==============================] - 57s 145ms/step - loss: 0.4125 - accuracy: 0.8569\n",
      "Epoch 11/50\n",
      "391/391 [==============================] - 57s 145ms/step - loss: 0.3724 - accuracy: 0.8712\n",
      "Epoch 12/50\n",
      "391/391 [==============================] - 58s 149ms/step - loss: 0.3323 - accuracy: 0.8866\n",
      "Epoch 13/50\n",
      "391/391 [==============================] - 57s 145ms/step - loss: 0.2931 - accuracy: 0.9007\n",
      "Epoch 14/50\n",
      "391/391 [==============================] - 58s 148ms/step - loss: 0.2614 - accuracy: 0.9132\n",
      "Epoch 15/50\n",
      "391/391 [==============================] - 58s 148ms/step - loss: 0.2244 - accuracy: 0.9254\n",
      "Epoch 16/50\n",
      "391/391 [==============================] - 57s 146ms/step - loss: 0.2004 - accuracy: 0.9330\n",
      "Epoch 17/50\n",
      "391/391 [==============================] - 58s 149ms/step - loss: 0.1678 - accuracy: 0.9471\n",
      "Epoch 18/50\n",
      "391/391 [==============================] - 59s 151ms/step - loss: 0.1476 - accuracy: 0.9536\n",
      "Epoch 19/50\n",
      "391/391 [==============================] - 57s 146ms/step - loss: 0.1370 - accuracy: 0.9572\n",
      "Epoch 20/50\n",
      "391/391 [==============================] - 57s 146ms/step - loss: 0.1142 - accuracy: 0.9657\n",
      "Epoch 21/50\n",
      "391/391 [==============================] - 57s 146ms/step - loss: 0.0913 - accuracy: 0.9743\n",
      "Epoch 22/50\n",
      "391/391 [==============================] - 58s 148ms/step - loss: 0.0871 - accuracy: 0.9752\n",
      "Epoch 23/50\n",
      "391/391 [==============================] - 57s 146ms/step - loss: 0.0744 - accuracy: 0.9791\n",
      "Epoch 24/50\n",
      "391/391 [==============================] - 57s 145ms/step - loss: 0.0785 - accuracy: 0.9763\n",
      "Epoch 25/50\n",
      "391/391 [==============================] - 62s 157ms/step - loss: 0.0775 - accuracy: 0.9757\n",
      "Epoch 26/50\n",
      "391/391 [==============================] - 65s 165ms/step - loss: 0.0582 - accuracy: 0.9839\n",
      "Epoch 27/50\n",
      "391/391 [==============================] - 63s 162ms/step - loss: 0.0642 - accuracy: 0.9809\n",
      "Epoch 28/50\n",
      "391/391 [==============================] - 63s 160ms/step - loss: 0.0546 - accuracy: 0.9844\n",
      "Epoch 29/50\n",
      "391/391 [==============================] - 63s 161ms/step - loss: 0.0389 - accuracy: 0.9901\n",
      "Epoch 30/50\n",
      "391/391 [==============================] - 60s 154ms/step - loss: 0.0506 - accuracy: 0.9841\n",
      "Epoch 31/50\n",
      "391/391 [==============================] - 58s 148ms/step - loss: 0.0645 - accuracy: 0.9789\n",
      "Epoch 32/50\n",
      "391/391 [==============================] - 57s 146ms/step - loss: 0.0420 - accuracy: 0.9871\n",
      "Epoch 33/50\n",
      "391/391 [==============================] - 57s 145ms/step - loss: 0.0293 - accuracy: 0.9929\n",
      "Epoch 34/50\n",
      "391/391 [==============================] - 57s 146ms/step - loss: 0.0398 - accuracy: 0.9878\n",
      "Epoch 35/50\n",
      "391/391 [==============================] - 61s 156ms/step - loss: 0.0704 - accuracy: 0.9760\n",
      "Epoch 36/50\n",
      "391/391 [==============================] - 63s 160ms/step - loss: 0.0263 - accuracy: 0.9930\n",
      "Epoch 37/50\n",
      "391/391 [==============================] - 61s 157ms/step - loss: 0.0147 - accuracy: 0.9970\n",
      "Epoch 38/50\n",
      "391/391 [==============================] - 61s 155ms/step - loss: 0.0530 - accuracy: 0.9823\n",
      "Epoch 39/50\n",
      "391/391 [==============================] - 60s 153ms/step - loss: 0.0517 - accuracy: 0.9830\n",
      "Epoch 40/50\n",
      "391/391 [==============================] - 57s 146ms/step - loss: 0.0314 - accuracy: 0.9903\n",
      "Epoch 41/50\n",
      "391/391 [==============================] - 57s 146ms/step - loss: 0.0099 - accuracy: 0.9983\n",
      "Epoch 42/50\n",
      "391/391 [==============================] - 57s 146ms/step - loss: 0.0058 - accuracy: 0.9995\n",
      "Epoch 43/50\n",
      "391/391 [==============================] - 57s 147ms/step - loss: 0.0565 - accuracy: 0.9811\n",
      "Epoch 44/50\n",
      "391/391 [==============================] - 57s 145ms/step - loss: 0.0766 - accuracy: 0.9732\n",
      "Epoch 45/50\n",
      "391/391 [==============================] - 57s 146ms/step - loss: 0.0186 - accuracy: 0.9948\n",
      "Epoch 46/50\n",
      "391/391 [==============================] - 57s 146ms/step - loss: 0.0063 - accuracy: 0.9992\n",
      "Epoch 47/50\n",
      "391/391 [==============================] - 58s 148ms/step - loss: 0.0036 - accuracy: 0.9999\n",
      "Epoch 48/50\n",
      "391/391 [==============================] - 59s 151ms/step - loss: 0.0019 - accuracy: 1.0000\n",
      "Epoch 49/50\n",
      "391/391 [==============================] - 58s 149ms/step - loss: 0.0902 - accuracy: 0.9716\n",
      "Epoch 50/50\n",
      "391/391 [==============================] - 57s 145ms/step - loss: 0.0634 - accuracy: 0.9780\n"
     ]
    }
   ],
   "source": [
    "from keras import models\n",
    "from keras import layers\n",
    "from keras.optimizers import Adam\n",
    "from keras.utils import to_categorical\n",
    "\n",
    "# Build the model\n",
    "model_2 = models.Sequential([\n",
    "    layers.Conv2D(32, (3,3), activation=None, input_shape=(32,32,3)),\n",
    "    layers.BatchNormalization(),\n",
    "    layers.Activation('relu'),\n",
    "\n",
    "    layers.MaxPooling2D((2,2)),\n",
    "\n",
    "    layers.Conv2D(64, (4,4), activation=None),\n",
    "    layers.BatchNormalization(),\n",
    "    layers.Activation('relu'),\n",
    "\n",
    "    layers.MaxPooling2D((2,2)),\n",
    "    layers.Flatten(),\n",
    "    layers.Dense(256, activation='relu'),\n",
    "    layers.Dense(10, activation='softmax')\n",
    "])\n",
    "\n",
    "# Compile the model\n",
    "model_2.compile(optimizer=Adam(learning_rate=0.0005),\n",
    "                loss='categorical_crossentropy', \n",
    "                metrics=['accuracy'])\n",
    "\n",
    "# Convert y_train to one-hot encoding\n",
    "y_train_vec_1 = to_one_hot(y_train)\n",
    "\n",
    "# Train the model\n",
    "history_2 = model_2.fit(x_train, y_train_vec_1, batch_size=128, epochs=50)\n"
   ]
  },
  {
   "cell_type": "code",
   "execution_count": 35,
   "metadata": {},
   "outputs": [
    {
     "name": "stdout",
     "output_type": "stream",
     "text": [
      "313/313 - 8s - loss: 1.7881 - accuracy: 0.7152 - 8s/epoch - 25ms/step\n"
     ]
    }
   ],
   "source": [
    "# Evaluating model performance on testing data.\n",
    "model_2.compile(optimizer=keras.optimizers.Adam(learning_rate=0.0005),\n",
    "              loss='categorical_crossentropy', \n",
    "              metrics=['accuracy'])\n",
    "\n",
    "y_test_vec_1 = to_one_hot(y_test)\n",
    "\n",
    "test_loss_2, test_acc_2 = model_2.evaluate(x_test, y_test_vec_1, verbose=2)\n"
   ]
  },
  {
   "cell_type": "code",
   "execution_count": 43,
   "metadata": {},
   "outputs": [
    {
     "data": {
      "image/png": "[encoded data removed]",
      "text/plain": [
       "<Figure size 432x288 with 1 Axes>"
      ]
     },
     "metadata": {
      "needs_background": "light"
     },
     "output_type": "display_data"
    }
   ],
   "source": [
    "import matplotlib.pyplot as plt\n",
    "# Plot the loss curve\n",
    "\n",
    "\n",
    "# Extract loss values\n",
    "epochs = range(50) \n",
    "\n",
    "train_loss_1 = history_1.history['loss']\n",
    "train_loss_2 = history_2.history['loss']\n",
    "\n",
    "# Plot training loss for both structures\n",
    "plt.plot(epochs, train_loss_1, 'bo-', label='Loss for structure 1')\n",
    "plt.plot(epochs, train_loss_2, 'ro-', label='Loss for structure 2')\n",
    "\n",
    "plt.xlabel('Epochs')\n",
    "plt.ylabel('Loss')\n",
    "plt.title('Training Loss Comparison')\n",
    "\n",
    "plt.legend()\n",
    "plt.show()\n"
   ]
  },
  {
   "cell_type": "markdown",
   "metadata": {},
   "source": [
    "Structure 2 has better regularization. ( only using BN and not drop out)"
   ]
  },
  {
   "cell_type": "code",
   "execution_count": null,
   "metadata": {},
   "outputs": [],
   "source": []
  }
 ],
 "metadata": {
  "kernelspec": {
   "display_name": "Python 3 (ipykernel)",
   "language": "python",
   "name": "python3"
  },
  "language_info": {
   "codemirror_mode": {
    "name": "ipython",
    "version": 3
   },
   "file_extension": ".py",
   "mimetype": "text/x-python",
   "name": "python",
   "nbconvert_exporter": "python",
   "pygments_lexer": "ipython3",
   "version": "3.9.7"
  }
 },
 "nbformat": 4,
 "nbformat_minor": 2
}
